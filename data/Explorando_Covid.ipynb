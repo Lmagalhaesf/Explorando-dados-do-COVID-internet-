{
  "nbformat": 4,
  "nbformat_minor": 0,
  "metadata": {
    "colab": {
      "name": "Explorando Covid.ipynb",
      "provenance": [],
      "collapsed_sections": [],
      "authorship_tag": "ABX9TyNmtY9NzldJMEOzhKLSZm8Q",
      "include_colab_link": true
    },
    "kernelspec": {
      "name": "python3",
      "display_name": "Python 3"
    }
  },
  "cells": [
    {
      "cell_type": "markdown",
      "metadata": {
        "id": "view-in-github",
        "colab_type": "text"
      },
      "source": [
        "<a href=\"https://colab.research.google.com/github/Lmagalhaesf/Explorando-dados-do-COVID-internet-/blob/master/data/Explorando_Covid.ipynb\" target=\"_parent\"><img src=\"https://colab.research.google.com/assets/colab-badge.svg\" alt=\"Open In Colab\"/></a>"
      ]
    },
    {
      "cell_type": "code",
      "metadata": {
        "id": "sZlHXHUEAFYS",
        "colab_type": "code",
        "colab": {}
      },
      "source": [
        "import pandas as pd\n",
        "import matplotlib.pyplot as plt\n",
        "import seaborn as sns\n",
        "import pylab\n",
        "from sklearn.linear_model import LinearRegression \n",
        "import numpy as np \n",
        "from sklearn.preprocessing import LabelEncoder \n",
        "from matplotlib import pyplot\n",
        "import numpy"
      ],
      "execution_count": 145,
      "outputs": []
    },
    {
      "cell_type": "code",
      "metadata": {
        "id": "_4Fc6G4fLucL",
        "colab_type": "code",
        "colab": {}
      },
      "source": [
        "dados = pd.read_excel('Covid.xlsx')"
      ],
      "execution_count": 3,
      "outputs": []
    },
    {
      "cell_type": "code",
      "metadata": {
        "id": "mJR5Op2GM5p0",
        "colab_type": "code",
        "colab": {
          "base_uri": "https://localhost:8080/",
          "height": 573
        },
        "outputId": "4dc0e572-ed0b-4bac-ccd3-572cc9a36e75"
      },
      "source": [
        "dados"
      ],
      "execution_count": 160,
      "outputs": [
        {
          "output_type": "execute_result",
          "data": {
            "text/html": [
              "<div>\n",
              "<style scoped>\n",
              "    .dataframe tbody tr th:only-of-type {\n",
              "        vertical-align: middle;\n",
              "    }\n",
              "\n",
              "    .dataframe tbody tr th {\n",
              "        vertical-align: top;\n",
              "    }\n",
              "\n",
              "    .dataframe thead th {\n",
              "        text-align: right;\n",
              "    }\n",
              "</style>\n",
              "<table border=\"1\" class=\"dataframe\">\n",
              "  <thead>\n",
              "    <tr style=\"text-align: right;\">\n",
              "      <th></th>\n",
              "      <th>regiao</th>\n",
              "      <th>estado</th>\n",
              "      <th>municipio</th>\n",
              "      <th>coduf</th>\n",
              "      <th>codmun</th>\n",
              "      <th>codRegiaoSaude</th>\n",
              "      <th>nomeRegiaoSaude</th>\n",
              "      <th>data</th>\n",
              "      <th>semanaEpi</th>\n",
              "      <th>populacaoTCU2019</th>\n",
              "      <th>casosAcumulado</th>\n",
              "      <th>casosNovos</th>\n",
              "      <th>obitosAcumulado</th>\n",
              "      <th>obitosNovos</th>\n",
              "      <th>Recuperadosnovos</th>\n",
              "      <th>emAcompanhamentoNovos</th>\n",
              "    </tr>\n",
              "  </thead>\n",
              "  <tbody>\n",
              "    <tr>\n",
              "      <th>0</th>\n",
              "      <td>Brasil</td>\n",
              "      <td>NaN</td>\n",
              "      <td>NaN</td>\n",
              "      <td>76</td>\n",
              "      <td>NaN</td>\n",
              "      <td>NaN</td>\n",
              "      <td>NaN</td>\n",
              "      <td>2020-02-25</td>\n",
              "      <td>9</td>\n",
              "      <td>210147125</td>\n",
              "      <td>0</td>\n",
              "      <td>0</td>\n",
              "      <td>0</td>\n",
              "      <td>0</td>\n",
              "      <td>NaN</td>\n",
              "      <td>NaN</td>\n",
              "    </tr>\n",
              "    <tr>\n",
              "      <th>1</th>\n",
              "      <td>Brasil</td>\n",
              "      <td>NaN</td>\n",
              "      <td>NaN</td>\n",
              "      <td>76</td>\n",
              "      <td>NaN</td>\n",
              "      <td>NaN</td>\n",
              "      <td>NaN</td>\n",
              "      <td>2020-02-26</td>\n",
              "      <td>9</td>\n",
              "      <td>210147125</td>\n",
              "      <td>1</td>\n",
              "      <td>1</td>\n",
              "      <td>0</td>\n",
              "      <td>0</td>\n",
              "      <td>NaN</td>\n",
              "      <td>NaN</td>\n",
              "    </tr>\n",
              "    <tr>\n",
              "      <th>2</th>\n",
              "      <td>Brasil</td>\n",
              "      <td>NaN</td>\n",
              "      <td>NaN</td>\n",
              "      <td>76</td>\n",
              "      <td>NaN</td>\n",
              "      <td>NaN</td>\n",
              "      <td>NaN</td>\n",
              "      <td>2020-02-27</td>\n",
              "      <td>9</td>\n",
              "      <td>210147125</td>\n",
              "      <td>1</td>\n",
              "      <td>0</td>\n",
              "      <td>0</td>\n",
              "      <td>0</td>\n",
              "      <td>NaN</td>\n",
              "      <td>NaN</td>\n",
              "    </tr>\n",
              "    <tr>\n",
              "      <th>3</th>\n",
              "      <td>Brasil</td>\n",
              "      <td>NaN</td>\n",
              "      <td>NaN</td>\n",
              "      <td>76</td>\n",
              "      <td>NaN</td>\n",
              "      <td>NaN</td>\n",
              "      <td>NaN</td>\n",
              "      <td>2020-02-28</td>\n",
              "      <td>9</td>\n",
              "      <td>210147125</td>\n",
              "      <td>1</td>\n",
              "      <td>0</td>\n",
              "      <td>0</td>\n",
              "      <td>0</td>\n",
              "      <td>NaN</td>\n",
              "      <td>NaN</td>\n",
              "    </tr>\n",
              "    <tr>\n",
              "      <th>4</th>\n",
              "      <td>Brasil</td>\n",
              "      <td>NaN</td>\n",
              "      <td>NaN</td>\n",
              "      <td>76</td>\n",
              "      <td>NaN</td>\n",
              "      <td>NaN</td>\n",
              "      <td>NaN</td>\n",
              "      <td>2020-02-29</td>\n",
              "      <td>9</td>\n",
              "      <td>210147125</td>\n",
              "      <td>2</td>\n",
              "      <td>1</td>\n",
              "      <td>0</td>\n",
              "      <td>0</td>\n",
              "      <td>NaN</td>\n",
              "      <td>NaN</td>\n",
              "    </tr>\n",
              "    <tr>\n",
              "      <th>...</th>\n",
              "      <td>...</td>\n",
              "      <td>...</td>\n",
              "      <td>...</td>\n",
              "      <td>...</td>\n",
              "      <td>...</td>\n",
              "      <td>...</td>\n",
              "      <td>...</td>\n",
              "      <td>...</td>\n",
              "      <td>...</td>\n",
              "      <td>...</td>\n",
              "      <td>...</td>\n",
              "      <td>...</td>\n",
              "      <td>...</td>\n",
              "      <td>...</td>\n",
              "      <td>...</td>\n",
              "      <td>...</td>\n",
              "    </tr>\n",
              "    <tr>\n",
              "      <th>413051</th>\n",
              "      <td>Centro-Oeste</td>\n",
              "      <td>DF</td>\n",
              "      <td>Brasília</td>\n",
              "      <td>53</td>\n",
              "      <td>530010.0</td>\n",
              "      <td>53001.0</td>\n",
              "      <td>DISTRITO FEDERAL</td>\n",
              "      <td>2020-06-14</td>\n",
              "      <td>25</td>\n",
              "      <td>3015268</td>\n",
              "      <td>22871</td>\n",
              "      <td>912</td>\n",
              "      <td>304</td>\n",
              "      <td>11</td>\n",
              "      <td>NaN</td>\n",
              "      <td>NaN</td>\n",
              "    </tr>\n",
              "    <tr>\n",
              "      <th>413052</th>\n",
              "      <td>Centro-Oeste</td>\n",
              "      <td>DF</td>\n",
              "      <td>Brasília</td>\n",
              "      <td>53</td>\n",
              "      <td>530010.0</td>\n",
              "      <td>53001.0</td>\n",
              "      <td>DISTRITO FEDERAL</td>\n",
              "      <td>2020-06-15</td>\n",
              "      <td>25</td>\n",
              "      <td>3015268</td>\n",
              "      <td>23684</td>\n",
              "      <td>813</td>\n",
              "      <td>319</td>\n",
              "      <td>15</td>\n",
              "      <td>NaN</td>\n",
              "      <td>NaN</td>\n",
              "    </tr>\n",
              "    <tr>\n",
              "      <th>413053</th>\n",
              "      <td>Centro-Oeste</td>\n",
              "      <td>DF</td>\n",
              "      <td>Brasília</td>\n",
              "      <td>53</td>\n",
              "      <td>530010.0</td>\n",
              "      <td>53001.0</td>\n",
              "      <td>DISTRITO FEDERAL</td>\n",
              "      <td>2020-06-16</td>\n",
              "      <td>25</td>\n",
              "      <td>3015268</td>\n",
              "      <td>25380</td>\n",
              "      <td>1696</td>\n",
              "      <td>348</td>\n",
              "      <td>29</td>\n",
              "      <td>NaN</td>\n",
              "      <td>NaN</td>\n",
              "    </tr>\n",
              "    <tr>\n",
              "      <th>413054</th>\n",
              "      <td>Centro-Oeste</td>\n",
              "      <td>DF</td>\n",
              "      <td>Brasília</td>\n",
              "      <td>53</td>\n",
              "      <td>530010.0</td>\n",
              "      <td>53001.0</td>\n",
              "      <td>DISTRITO FEDERAL</td>\n",
              "      <td>2020-06-17</td>\n",
              "      <td>25</td>\n",
              "      <td>3015268</td>\n",
              "      <td>27140</td>\n",
              "      <td>1760</td>\n",
              "      <td>365</td>\n",
              "      <td>17</td>\n",
              "      <td>NaN</td>\n",
              "      <td>NaN</td>\n",
              "    </tr>\n",
              "    <tr>\n",
              "      <th>413055</th>\n",
              "      <td>Centro-Oeste</td>\n",
              "      <td>DF</td>\n",
              "      <td>Brasília</td>\n",
              "      <td>53</td>\n",
              "      <td>530010.0</td>\n",
              "      <td>53001.0</td>\n",
              "      <td>DISTRITO FEDERAL</td>\n",
              "      <td>2020-06-18</td>\n",
              "      <td>25</td>\n",
              "      <td>3015268</td>\n",
              "      <td>28521</td>\n",
              "      <td>1381</td>\n",
              "      <td>379</td>\n",
              "      <td>14</td>\n",
              "      <td>NaN</td>\n",
              "      <td>NaN</td>\n",
              "    </tr>\n",
              "  </tbody>\n",
              "</table>\n",
              "<p>413056 rows × 16 columns</p>\n",
              "</div>"
            ],
            "text/plain": [
              "              regiao estado  ... Recuperadosnovos  emAcompanhamentoNovos\n",
              "0             Brasil    NaN  ...              NaN                    NaN\n",
              "1             Brasil    NaN  ...              NaN                    NaN\n",
              "2             Brasil    NaN  ...              NaN                    NaN\n",
              "3             Brasil    NaN  ...              NaN                    NaN\n",
              "4             Brasil    NaN  ...              NaN                    NaN\n",
              "...              ...    ...  ...              ...                    ...\n",
              "413051  Centro-Oeste     DF  ...              NaN                    NaN\n",
              "413052  Centro-Oeste     DF  ...              NaN                    NaN\n",
              "413053  Centro-Oeste     DF  ...              NaN                    NaN\n",
              "413054  Centro-Oeste     DF  ...              NaN                    NaN\n",
              "413055  Centro-Oeste     DF  ...              NaN                    NaN\n",
              "\n",
              "[413056 rows x 16 columns]"
            ]
          },
          "metadata": {
            "tags": []
          },
          "execution_count": 160
        }
      ]
    },
    {
      "cell_type": "code",
      "metadata": {
        "id": "KQg6FC3mD5j6",
        "colab_type": "code",
        "colab": {
          "base_uri": "https://localhost:8080/",
          "height": 406
        },
        "outputId": "4eefc8b6-7169-496e-8c06-75aa29176270"
      },
      "source": [
        "dados.head(100)"
      ],
      "execution_count": 170,
      "outputs": [
        {
          "output_type": "execute_result",
          "data": {
            "text/html": [
              "<div>\n",
              "<style scoped>\n",
              "    .dataframe tbody tr th:only-of-type {\n",
              "        vertical-align: middle;\n",
              "    }\n",
              "\n",
              "    .dataframe tbody tr th {\n",
              "        vertical-align: top;\n",
              "    }\n",
              "\n",
              "    .dataframe thead th {\n",
              "        text-align: right;\n",
              "    }\n",
              "</style>\n",
              "<table border=\"1\" class=\"dataframe\">\n",
              "  <thead>\n",
              "    <tr style=\"text-align: right;\">\n",
              "      <th></th>\n",
              "      <th>regiao</th>\n",
              "      <th>estado</th>\n",
              "      <th>municipio</th>\n",
              "      <th>coduf</th>\n",
              "      <th>codmun</th>\n",
              "      <th>codRegiaoSaude</th>\n",
              "      <th>nomeRegiaoSaude</th>\n",
              "      <th>data</th>\n",
              "      <th>semanaEpi</th>\n",
              "      <th>populacaoTCU2019</th>\n",
              "      <th>casosAcumulado</th>\n",
              "      <th>casosNovos</th>\n",
              "      <th>obitosAcumulado</th>\n",
              "      <th>obitosNovos</th>\n",
              "      <th>Recuperadosnovos</th>\n",
              "      <th>emAcompanhamentoNovos</th>\n",
              "    </tr>\n",
              "  </thead>\n",
              "  <tbody>\n",
              "    <tr>\n",
              "      <th>0</th>\n",
              "      <td>Brasil</td>\n",
              "      <td>NaN</td>\n",
              "      <td>NaN</td>\n",
              "      <td>76</td>\n",
              "      <td>NaN</td>\n",
              "      <td>NaN</td>\n",
              "      <td>NaN</td>\n",
              "      <td>2020-02-25</td>\n",
              "      <td>9</td>\n",
              "      <td>210147125</td>\n",
              "      <td>0</td>\n",
              "      <td>0</td>\n",
              "      <td>0</td>\n",
              "      <td>0</td>\n",
              "      <td>NaN</td>\n",
              "      <td>NaN</td>\n",
              "    </tr>\n",
              "    <tr>\n",
              "      <th>1</th>\n",
              "      <td>Brasil</td>\n",
              "      <td>NaN</td>\n",
              "      <td>NaN</td>\n",
              "      <td>76</td>\n",
              "      <td>NaN</td>\n",
              "      <td>NaN</td>\n",
              "      <td>NaN</td>\n",
              "      <td>2020-02-26</td>\n",
              "      <td>9</td>\n",
              "      <td>210147125</td>\n",
              "      <td>1</td>\n",
              "      <td>1</td>\n",
              "      <td>0</td>\n",
              "      <td>0</td>\n",
              "      <td>NaN</td>\n",
              "      <td>NaN</td>\n",
              "    </tr>\n",
              "    <tr>\n",
              "      <th>2</th>\n",
              "      <td>Brasil</td>\n",
              "      <td>NaN</td>\n",
              "      <td>NaN</td>\n",
              "      <td>76</td>\n",
              "      <td>NaN</td>\n",
              "      <td>NaN</td>\n",
              "      <td>NaN</td>\n",
              "      <td>2020-02-27</td>\n",
              "      <td>9</td>\n",
              "      <td>210147125</td>\n",
              "      <td>1</td>\n",
              "      <td>0</td>\n",
              "      <td>0</td>\n",
              "      <td>0</td>\n",
              "      <td>NaN</td>\n",
              "      <td>NaN</td>\n",
              "    </tr>\n",
              "    <tr>\n",
              "      <th>3</th>\n",
              "      <td>Brasil</td>\n",
              "      <td>NaN</td>\n",
              "      <td>NaN</td>\n",
              "      <td>76</td>\n",
              "      <td>NaN</td>\n",
              "      <td>NaN</td>\n",
              "      <td>NaN</td>\n",
              "      <td>2020-02-28</td>\n",
              "      <td>9</td>\n",
              "      <td>210147125</td>\n",
              "      <td>1</td>\n",
              "      <td>0</td>\n",
              "      <td>0</td>\n",
              "      <td>0</td>\n",
              "      <td>NaN</td>\n",
              "      <td>NaN</td>\n",
              "    </tr>\n",
              "    <tr>\n",
              "      <th>4</th>\n",
              "      <td>Brasil</td>\n",
              "      <td>NaN</td>\n",
              "      <td>NaN</td>\n",
              "      <td>76</td>\n",
              "      <td>NaN</td>\n",
              "      <td>NaN</td>\n",
              "      <td>NaN</td>\n",
              "      <td>2020-02-29</td>\n",
              "      <td>9</td>\n",
              "      <td>210147125</td>\n",
              "      <td>2</td>\n",
              "      <td>1</td>\n",
              "      <td>0</td>\n",
              "      <td>0</td>\n",
              "      <td>NaN</td>\n",
              "      <td>NaN</td>\n",
              "    </tr>\n",
              "    <tr>\n",
              "      <th>...</th>\n",
              "      <td>...</td>\n",
              "      <td>...</td>\n",
              "      <td>...</td>\n",
              "      <td>...</td>\n",
              "      <td>...</td>\n",
              "      <td>...</td>\n",
              "      <td>...</td>\n",
              "      <td>...</td>\n",
              "      <td>...</td>\n",
              "      <td>...</td>\n",
              "      <td>...</td>\n",
              "      <td>...</td>\n",
              "      <td>...</td>\n",
              "      <td>...</td>\n",
              "      <td>...</td>\n",
              "      <td>...</td>\n",
              "    </tr>\n",
              "    <tr>\n",
              "      <th>95</th>\n",
              "      <td>Brasil</td>\n",
              "      <td>NaN</td>\n",
              "      <td>NaN</td>\n",
              "      <td>76</td>\n",
              "      <td>NaN</td>\n",
              "      <td>NaN</td>\n",
              "      <td>NaN</td>\n",
              "      <td>2020-05-30</td>\n",
              "      <td>22</td>\n",
              "      <td>210147125</td>\n",
              "      <td>498440</td>\n",
              "      <td>33274</td>\n",
              "      <td>28834</td>\n",
              "      <td>956</td>\n",
              "      <td>200892.0</td>\n",
              "      <td>268714.0</td>\n",
              "    </tr>\n",
              "    <tr>\n",
              "      <th>96</th>\n",
              "      <td>Brasil</td>\n",
              "      <td>NaN</td>\n",
              "      <td>NaN</td>\n",
              "      <td>76</td>\n",
              "      <td>NaN</td>\n",
              "      <td>NaN</td>\n",
              "      <td>NaN</td>\n",
              "      <td>2020-05-31</td>\n",
              "      <td>23</td>\n",
              "      <td>210147125</td>\n",
              "      <td>514200</td>\n",
              "      <td>15760</td>\n",
              "      <td>29314</td>\n",
              "      <td>480</td>\n",
              "      <td>206555.0</td>\n",
              "      <td>278331.0</td>\n",
              "    </tr>\n",
              "    <tr>\n",
              "      <th>97</th>\n",
              "      <td>Brasil</td>\n",
              "      <td>NaN</td>\n",
              "      <td>NaN</td>\n",
              "      <td>76</td>\n",
              "      <td>NaN</td>\n",
              "      <td>NaN</td>\n",
              "      <td>NaN</td>\n",
              "      <td>2020-06-01</td>\n",
              "      <td>23</td>\n",
              "      <td>210147125</td>\n",
              "      <td>526447</td>\n",
              "      <td>12247</td>\n",
              "      <td>29937</td>\n",
              "      <td>623</td>\n",
              "      <td>211080.0</td>\n",
              "      <td>285430.0</td>\n",
              "    </tr>\n",
              "    <tr>\n",
              "      <th>98</th>\n",
              "      <td>Brasil</td>\n",
              "      <td>NaN</td>\n",
              "      <td>NaN</td>\n",
              "      <td>76</td>\n",
              "      <td>NaN</td>\n",
              "      <td>NaN</td>\n",
              "      <td>NaN</td>\n",
              "      <td>2020-06-02</td>\n",
              "      <td>23</td>\n",
              "      <td>210147125</td>\n",
              "      <td>555383</td>\n",
              "      <td>28936</td>\n",
              "      <td>31199</td>\n",
              "      <td>1262</td>\n",
              "      <td>223638.0</td>\n",
              "      <td>300546.0</td>\n",
              "    </tr>\n",
              "    <tr>\n",
              "      <th>99</th>\n",
              "      <td>Brasil</td>\n",
              "      <td>NaN</td>\n",
              "      <td>NaN</td>\n",
              "      <td>76</td>\n",
              "      <td>NaN</td>\n",
              "      <td>NaN</td>\n",
              "      <td>NaN</td>\n",
              "      <td>2020-06-03</td>\n",
              "      <td>23</td>\n",
              "      <td>210147125</td>\n",
              "      <td>584016</td>\n",
              "      <td>28633</td>\n",
              "      <td>32548</td>\n",
              "      <td>1349</td>\n",
              "      <td>238617.0</td>\n",
              "      <td>312851.0</td>\n",
              "    </tr>\n",
              "  </tbody>\n",
              "</table>\n",
              "<p>100 rows × 16 columns</p>\n",
              "</div>"
            ],
            "text/plain": [
              "    regiao estado  ... Recuperadosnovos  emAcompanhamentoNovos\n",
              "0   Brasil    NaN  ...              NaN                    NaN\n",
              "1   Brasil    NaN  ...              NaN                    NaN\n",
              "2   Brasil    NaN  ...              NaN                    NaN\n",
              "3   Brasil    NaN  ...              NaN                    NaN\n",
              "4   Brasil    NaN  ...              NaN                    NaN\n",
              "..     ...    ...  ...              ...                    ...\n",
              "95  Brasil    NaN  ...         200892.0               268714.0\n",
              "96  Brasil    NaN  ...         206555.0               278331.0\n",
              "97  Brasil    NaN  ...         211080.0               285430.0\n",
              "98  Brasil    NaN  ...         223638.0               300546.0\n",
              "99  Brasil    NaN  ...         238617.0               312851.0\n",
              "\n",
              "[100 rows x 16 columns]"
            ]
          },
          "metadata": {
            "tags": []
          },
          "execution_count": 170
        }
      ]
    },
    {
      "cell_type": "code",
      "metadata": {
        "id": "eXUfOBAbTv_6",
        "colab_type": "code",
        "colab": {
          "base_uri": "https://localhost:8080/",
          "height": 318
        },
        "outputId": "7b919f24-306c-4129-faa4-d33d8e81e556"
      },
      "source": [
        "dados.iloc[32]"
      ],
      "execution_count": 236,
      "outputs": [
        {
          "output_type": "execute_result",
          "data": {
            "text/plain": [
              "regiao                                Brasil\n",
              "estado                                     0\n",
              "municipio                                  0\n",
              "coduf                                     76\n",
              "codmun                                     0\n",
              "codRegiaoSaude                             0\n",
              "nomeRegiaoSaude                            0\n",
              "data                     2020-03-28 00:00:00\n",
              "semanaEpi                                 13\n",
              "populacaoTCU2019                   210147125\n",
              "casosAcumulado                          3903\n",
              "casosNovos                               486\n",
              "obitosAcumulado                          114\n",
              "obitosNovos                               22\n",
              "Recuperadosnovos                           0\n",
              "emAcompanhamentoNovos                      0\n",
              "Name: 32, dtype: object"
            ]
          },
          "metadata": {
            "tags": []
          },
          "execution_count": 236
        }
      ]
    },
    {
      "cell_type": "code",
      "metadata": {
        "id": "hzKC7pOFHdOt",
        "colab_type": "code",
        "colab": {
          "base_uri": "https://localhost:8080/",
          "height": 287
        },
        "outputId": "bc032f36-4944-4385-bb4e-39446fea10a7"
      },
      "source": [
        "dados.describe()"
      ],
      "execution_count": 270,
      "outputs": [
        {
          "output_type": "execute_result",
          "data": {
            "text/html": [
              "<div>\n",
              "<style scoped>\n",
              "    .dataframe tbody tr th:only-of-type {\n",
              "        vertical-align: middle;\n",
              "    }\n",
              "\n",
              "    .dataframe tbody tr th {\n",
              "        vertical-align: top;\n",
              "    }\n",
              "\n",
              "    .dataframe thead th {\n",
              "        text-align: right;\n",
              "    }\n",
              "</style>\n",
              "<table border=\"1\" class=\"dataframe\">\n",
              "  <thead>\n",
              "    <tr style=\"text-align: right;\">\n",
              "      <th></th>\n",
              "      <th>coduf</th>\n",
              "      <th>codmun</th>\n",
              "      <th>codRegiaoSaude</th>\n",
              "      <th>semanaEpi</th>\n",
              "      <th>casosAcumulado</th>\n",
              "      <th>casosNovos</th>\n",
              "      <th>obitosAcumulado</th>\n",
              "      <th>obitosNovos</th>\n",
              "      <th>Recuperadosnovos</th>\n",
              "      <th>emAcompanhamentoNovos</th>\n",
              "    </tr>\n",
              "  </thead>\n",
              "  <tbody>\n",
              "    <tr>\n",
              "      <th>count</th>\n",
              "      <td>413056.000000</td>\n",
              "      <td>413056.000000</td>\n",
              "      <td>413056.000000</td>\n",
              "      <td>413056.000000</td>\n",
              "      <td>413056.000000</td>\n",
              "      <td>413056.000000</td>\n",
              "      <td>413056.000000</td>\n",
              "      <td>413056.000000</td>\n",
              "      <td>413056.000000</td>\n",
              "      <td>413056.000000</td>\n",
              "    </tr>\n",
              "    <tr>\n",
              "      <th>mean</th>\n",
              "      <td>31.853671</td>\n",
              "      <td>317605.788774</td>\n",
              "      <td>31522.255355</td>\n",
              "      <td>19.197024</td>\n",
              "      <td>164.175586</td>\n",
              "      <td>7.104184</td>\n",
              "      <td>9.279170</td>\n",
              "      <td>0.346791</td>\n",
              "      <td>23.020975</td>\n",
              "      <td>27.746957</td>\n",
              "    </tr>\n",
              "    <tr>\n",
              "      <th>std</th>\n",
              "      <td>9.903249</td>\n",
              "      <td>102255.471433</td>\n",
              "      <td>10372.937677</td>\n",
              "      <td>3.498637</td>\n",
              "      <td>5951.496045</td>\n",
              "      <td>234.026285</td>\n",
              "      <td>329.792704</td>\n",
              "      <td>10.961647</td>\n",
              "      <td>2466.881221</td>\n",
              "      <td>2890.325945</td>\n",
              "    </tr>\n",
              "    <tr>\n",
              "      <th>min</th>\n",
              "      <td>11.000000</td>\n",
              "      <td>0.000000</td>\n",
              "      <td>0.000000</td>\n",
              "      <td>9.000000</td>\n",
              "      <td>0.000000</td>\n",
              "      <td>-1370.000000</td>\n",
              "      <td>0.000000</td>\n",
              "      <td>-36.000000</td>\n",
              "      <td>0.000000</td>\n",
              "      <td>0.000000</td>\n",
              "    </tr>\n",
              "    <tr>\n",
              "      <th>25%</th>\n",
              "      <td>25.000000</td>\n",
              "      <td>250118.750000</td>\n",
              "      <td>25001.000000</td>\n",
              "      <td>16.000000</td>\n",
              "      <td>0.000000</td>\n",
              "      <td>0.000000</td>\n",
              "      <td>0.000000</td>\n",
              "      <td>0.000000</td>\n",
              "      <td>0.000000</td>\n",
              "      <td>0.000000</td>\n",
              "    </tr>\n",
              "    <tr>\n",
              "      <th>50%</th>\n",
              "      <td>31.000000</td>\n",
              "      <td>313470.000000</td>\n",
              "      <td>31040.000000</td>\n",
              "      <td>19.000000</td>\n",
              "      <td>1.000000</td>\n",
              "      <td>0.000000</td>\n",
              "      <td>0.000000</td>\n",
              "      <td>0.000000</td>\n",
              "      <td>0.000000</td>\n",
              "      <td>0.000000</td>\n",
              "    </tr>\n",
              "    <tr>\n",
              "      <th>75%</th>\n",
              "      <td>41.000000</td>\n",
              "      <td>411150.000000</td>\n",
              "      <td>41010.000000</td>\n",
              "      <td>22.000000</td>\n",
              "      <td>8.000000</td>\n",
              "      <td>0.000000</td>\n",
              "      <td>0.000000</td>\n",
              "      <td>0.000000</td>\n",
              "      <td>0.000000</td>\n",
              "      <td>0.000000</td>\n",
              "    </tr>\n",
              "    <tr>\n",
              "      <th>max</th>\n",
              "      <td>76.000000</td>\n",
              "      <td>530010.000000</td>\n",
              "      <td>53001.000000</td>\n",
              "      <td>25.000000</td>\n",
              "      <td>978142.000000</td>\n",
              "      <td>34918.000000</td>\n",
              "      <td>47748.000000</td>\n",
              "      <td>1473.000000</td>\n",
              "      <td>482102.000000</td>\n",
              "      <td>448292.000000</td>\n",
              "    </tr>\n",
              "  </tbody>\n",
              "</table>\n",
              "</div>"
            ],
            "text/plain": [
              "               coduf         codmun  ...  Recuperadosnovos  emAcompanhamentoNovos\n",
              "count  413056.000000  413056.000000  ...     413056.000000          413056.000000\n",
              "mean       31.853671  317605.788774  ...         23.020975              27.746957\n",
              "std         9.903249  102255.471433  ...       2466.881221            2890.325945\n",
              "min        11.000000       0.000000  ...          0.000000               0.000000\n",
              "25%        25.000000  250118.750000  ...          0.000000               0.000000\n",
              "50%        31.000000  313470.000000  ...          0.000000               0.000000\n",
              "75%        41.000000  411150.000000  ...          0.000000               0.000000\n",
              "max        76.000000  530010.000000  ...     482102.000000          448292.000000\n",
              "\n",
              "[8 rows x 10 columns]"
            ]
          },
          "metadata": {
            "tags": []
          },
          "execution_count": 270
        }
      ]
    },
    {
      "cell_type": "code",
      "metadata": {
        "id": "ggckUtM_BLGe",
        "colab_type": "code",
        "colab": {
          "base_uri": "https://localhost:8080/",
          "height": 230
        },
        "outputId": "3efaa964-8599-4160-ec36-81227737b412"
      },
      "source": [
        "#contando os valores iguais da coluna data\n",
        "dados['data'].value_counts()"
      ],
      "execution_count": 189,
      "outputs": [
        {
          "output_type": "execute_result",
          "data": {
            "text/plain": [
              "2020-05-18    4907\n",
              "2020-05-15    4907\n",
              "2020-06-10    4907\n",
              "2020-04-26    4907\n",
              "2020-05-03    4907\n",
              "              ... \n",
              "2020-03-25      28\n",
              "2020-03-11      28\n",
              "2020-02-28      28\n",
              "2020-03-26      28\n",
              "2020-02-26      28\n",
              "Name: data, Length: 115, dtype: int64"
            ]
          },
          "metadata": {
            "tags": []
          },
          "execution_count": 189
        }
      ]
    },
    {
      "cell_type": "code",
      "metadata": {
        "id": "WAhgGp7sIkmS",
        "colab_type": "code",
        "colab": {
          "base_uri": "https://localhost:8080/",
          "height": 573
        },
        "outputId": "33150af3-9d29-4dc9-b86d-37289046cb47"
      },
      "source": [
        "#pegando as linhas referentes a data 2020-06-10\n",
        "datae=dados.loc[dados['data']=='2020-06-10']\n",
        "datae"
      ],
      "execution_count": 195,
      "outputs": [
        {
          "output_type": "execute_result",
          "data": {
            "text/html": [
              "<div>\n",
              "<style scoped>\n",
              "    .dataframe tbody tr th:only-of-type {\n",
              "        vertical-align: middle;\n",
              "    }\n",
              "\n",
              "    .dataframe tbody tr th {\n",
              "        vertical-align: top;\n",
              "    }\n",
              "\n",
              "    .dataframe thead th {\n",
              "        text-align: right;\n",
              "    }\n",
              "</style>\n",
              "<table border=\"1\" class=\"dataframe\">\n",
              "  <thead>\n",
              "    <tr style=\"text-align: right;\">\n",
              "      <th></th>\n",
              "      <th>regiao</th>\n",
              "      <th>estado</th>\n",
              "      <th>municipio</th>\n",
              "      <th>coduf</th>\n",
              "      <th>codmun</th>\n",
              "      <th>codRegiaoSaude</th>\n",
              "      <th>nomeRegiaoSaude</th>\n",
              "      <th>data</th>\n",
              "      <th>semanaEpi</th>\n",
              "      <th>populacaoTCU2019</th>\n",
              "      <th>casosAcumulado</th>\n",
              "      <th>casosNovos</th>\n",
              "      <th>obitosAcumulado</th>\n",
              "      <th>obitosNovos</th>\n",
              "      <th>Recuperadosnovos</th>\n",
              "      <th>emAcompanhamentoNovos</th>\n",
              "    </tr>\n",
              "  </thead>\n",
              "  <tbody>\n",
              "    <tr>\n",
              "      <th>106</th>\n",
              "      <td>Brasil</td>\n",
              "      <td>NaN</td>\n",
              "      <td>NaN</td>\n",
              "      <td>76</td>\n",
              "      <td>NaN</td>\n",
              "      <td>NaN</td>\n",
              "      <td>NaN</td>\n",
              "      <td>2020-06-10</td>\n",
              "      <td>24</td>\n",
              "      <td>210147125</td>\n",
              "      <td>772416</td>\n",
              "      <td>32913</td>\n",
              "      <td>39680</td>\n",
              "      <td>1274</td>\n",
              "      <td>325395.0</td>\n",
              "      <td>407341.0</td>\n",
              "    </tr>\n",
              "    <tr>\n",
              "      <th>221</th>\n",
              "      <td>Norte</td>\n",
              "      <td>RO</td>\n",
              "      <td>NaN</td>\n",
              "      <td>11</td>\n",
              "      <td>NaN</td>\n",
              "      <td>NaN</td>\n",
              "      <td>NaN</td>\n",
              "      <td>2020-06-10</td>\n",
              "      <td>24</td>\n",
              "      <td>1777225</td>\n",
              "      <td>9850</td>\n",
              "      <td>630</td>\n",
              "      <td>267</td>\n",
              "      <td>12</td>\n",
              "      <td>NaN</td>\n",
              "      <td>NaN</td>\n",
              "    </tr>\n",
              "    <tr>\n",
              "      <th>336</th>\n",
              "      <td>Norte</td>\n",
              "      <td>AC</td>\n",
              "      <td>NaN</td>\n",
              "      <td>12</td>\n",
              "      <td>NaN</td>\n",
              "      <td>NaN</td>\n",
              "      <td>NaN</td>\n",
              "      <td>2020-06-10</td>\n",
              "      <td>24</td>\n",
              "      <td>881935</td>\n",
              "      <td>8746</td>\n",
              "      <td>289</td>\n",
              "      <td>237</td>\n",
              "      <td>14</td>\n",
              "      <td>NaN</td>\n",
              "      <td>NaN</td>\n",
              "    </tr>\n",
              "    <tr>\n",
              "      <th>451</th>\n",
              "      <td>Norte</td>\n",
              "      <td>AM</td>\n",
              "      <td>NaN</td>\n",
              "      <td>13</td>\n",
              "      <td>NaN</td>\n",
              "      <td>NaN</td>\n",
              "      <td>NaN</td>\n",
              "      <td>2020-06-10</td>\n",
              "      <td>24</td>\n",
              "      <td>4144597</td>\n",
              "      <td>52849</td>\n",
              "      <td>1615</td>\n",
              "      <td>2363</td>\n",
              "      <td>48</td>\n",
              "      <td>NaN</td>\n",
              "      <td>NaN</td>\n",
              "    </tr>\n",
              "    <tr>\n",
              "      <th>566</th>\n",
              "      <td>Norte</td>\n",
              "      <td>RR</td>\n",
              "      <td>NaN</td>\n",
              "      <td>14</td>\n",
              "      <td>NaN</td>\n",
              "      <td>NaN</td>\n",
              "      <td>NaN</td>\n",
              "      <td>2020-06-10</td>\n",
              "      <td>24</td>\n",
              "      <td>605761</td>\n",
              "      <td>6347</td>\n",
              "      <td>291</td>\n",
              "      <td>182</td>\n",
              "      <td>14</td>\n",
              "      <td>NaN</td>\n",
              "      <td>NaN</td>\n",
              "    </tr>\n",
              "    <tr>\n",
              "      <th>...</th>\n",
              "      <td>...</td>\n",
              "      <td>...</td>\n",
              "      <td>...</td>\n",
              "      <td>...</td>\n",
              "      <td>...</td>\n",
              "      <td>...</td>\n",
              "      <td>...</td>\n",
              "      <td>...</td>\n",
              "      <td>...</td>\n",
              "      <td>...</td>\n",
              "      <td>...</td>\n",
              "      <td>...</td>\n",
              "      <td>...</td>\n",
              "      <td>...</td>\n",
              "      <td>...</td>\n",
              "      <td>...</td>\n",
              "    </tr>\n",
              "    <tr>\n",
              "      <th>412711</th>\n",
              "      <td>Centro-Oeste</td>\n",
              "      <td>GO</td>\n",
              "      <td>Valparaíso de Goiás</td>\n",
              "      <td>52</td>\n",
              "      <td>522185.0</td>\n",
              "      <td>52004.0</td>\n",
              "      <td>ENTORNO SUL</td>\n",
              "      <td>2020-06-10</td>\n",
              "      <td>24</td>\n",
              "      <td>168468</td>\n",
              "      <td>223</td>\n",
              "      <td>24</td>\n",
              "      <td>6</td>\n",
              "      <td>2</td>\n",
              "      <td>NaN</td>\n",
              "      <td>NaN</td>\n",
              "    </tr>\n",
              "    <tr>\n",
              "      <th>412795</th>\n",
              "      <td>Centro-Oeste</td>\n",
              "      <td>GO</td>\n",
              "      <td>Vianópolis</td>\n",
              "      <td>52</td>\n",
              "      <td>522200.0</td>\n",
              "      <td>52002.0</td>\n",
              "      <td>CENTRO SUL</td>\n",
              "      <td>2020-06-10</td>\n",
              "      <td>24</td>\n",
              "      <td>13863</td>\n",
              "      <td>14</td>\n",
              "      <td>1</td>\n",
              "      <td>0</td>\n",
              "      <td>0</td>\n",
              "      <td>NaN</td>\n",
              "      <td>NaN</td>\n",
              "    </tr>\n",
              "    <tr>\n",
              "      <th>412879</th>\n",
              "      <td>Centro-Oeste</td>\n",
              "      <td>GO</td>\n",
              "      <td>Vicentinópolis</td>\n",
              "      <td>52</td>\n",
              "      <td>522205.0</td>\n",
              "      <td>52002.0</td>\n",
              "      <td>CENTRO SUL</td>\n",
              "      <td>2020-06-10</td>\n",
              "      <td>24</td>\n",
              "      <td>8743</td>\n",
              "      <td>0</td>\n",
              "      <td>0</td>\n",
              "      <td>0</td>\n",
              "      <td>0</td>\n",
              "      <td>NaN</td>\n",
              "      <td>NaN</td>\n",
              "    </tr>\n",
              "    <tr>\n",
              "      <th>412963</th>\n",
              "      <td>Centro-Oeste</td>\n",
              "      <td>GO</td>\n",
              "      <td>Vila Boa</td>\n",
              "      <td>52</td>\n",
              "      <td>522220.0</td>\n",
              "      <td>52003.0</td>\n",
              "      <td>ENTORNO NORTE</td>\n",
              "      <td>2020-06-10</td>\n",
              "      <td>24</td>\n",
              "      <td>6171</td>\n",
              "      <td>0</td>\n",
              "      <td>0</td>\n",
              "      <td>0</td>\n",
              "      <td>0</td>\n",
              "      <td>NaN</td>\n",
              "      <td>NaN</td>\n",
              "    </tr>\n",
              "    <tr>\n",
              "      <th>413047</th>\n",
              "      <td>Centro-Oeste</td>\n",
              "      <td>DF</td>\n",
              "      <td>Brasília</td>\n",
              "      <td>53</td>\n",
              "      <td>530010.0</td>\n",
              "      <td>53001.0</td>\n",
              "      <td>DISTRITO FEDERAL</td>\n",
              "      <td>2020-06-10</td>\n",
              "      <td>24</td>\n",
              "      <td>3015268</td>\n",
              "      <td>19433</td>\n",
              "      <td>1343</td>\n",
              "      <td>256</td>\n",
              "      <td>20</td>\n",
              "      <td>NaN</td>\n",
              "      <td>NaN</td>\n",
              "    </tr>\n",
              "  </tbody>\n",
              "</table>\n",
              "<p>4907 rows × 16 columns</p>\n",
              "</div>"
            ],
            "text/plain": [
              "              regiao estado  ... Recuperadosnovos  emAcompanhamentoNovos\n",
              "106           Brasil    NaN  ...         325395.0               407341.0\n",
              "221            Norte     RO  ...              NaN                    NaN\n",
              "336            Norte     AC  ...              NaN                    NaN\n",
              "451            Norte     AM  ...              NaN                    NaN\n",
              "566            Norte     RR  ...              NaN                    NaN\n",
              "...              ...    ...  ...              ...                    ...\n",
              "412711  Centro-Oeste     GO  ...              NaN                    NaN\n",
              "412795  Centro-Oeste     GO  ...              NaN                    NaN\n",
              "412879  Centro-Oeste     GO  ...              NaN                    NaN\n",
              "412963  Centro-Oeste     GO  ...              NaN                    NaN\n",
              "413047  Centro-Oeste     DF  ...              NaN                    NaN\n",
              "\n",
              "[4907 rows x 16 columns]"
            ]
          },
          "metadata": {
            "tags": []
          },
          "execution_count": 195
        }
      ]
    },
    {
      "cell_type": "code",
      "metadata": {
        "id": "yzYM-4_LOTr-",
        "colab_type": "code",
        "colab": {
          "base_uri": "https://localhost:8080/",
          "height": 573
        },
        "outputId": "aed0c1dc-2e5e-456d-ad84-b3121106af3e"
      },
      "source": [
        "#retirando as linhas referentes ao estado DF\n",
        "datae = datae.loc[datae['estado']!='DF']\n",
        "datae"
      ],
      "execution_count": 207,
      "outputs": [
        {
          "output_type": "execute_result",
          "data": {
            "text/html": [
              "<div>\n",
              "<style scoped>\n",
              "    .dataframe tbody tr th:only-of-type {\n",
              "        vertical-align: middle;\n",
              "    }\n",
              "\n",
              "    .dataframe tbody tr th {\n",
              "        vertical-align: top;\n",
              "    }\n",
              "\n",
              "    .dataframe thead th {\n",
              "        text-align: right;\n",
              "    }\n",
              "</style>\n",
              "<table border=\"1\" class=\"dataframe\">\n",
              "  <thead>\n",
              "    <tr style=\"text-align: right;\">\n",
              "      <th></th>\n",
              "      <th>regiao</th>\n",
              "      <th>estado</th>\n",
              "      <th>municipio</th>\n",
              "      <th>coduf</th>\n",
              "      <th>codmun</th>\n",
              "      <th>codRegiaoSaude</th>\n",
              "      <th>nomeRegiaoSaude</th>\n",
              "      <th>data</th>\n",
              "      <th>semanaEpi</th>\n",
              "      <th>populacaoTCU2019</th>\n",
              "      <th>casosAcumulado</th>\n",
              "      <th>casosNovos</th>\n",
              "      <th>obitosAcumulado</th>\n",
              "      <th>obitosNovos</th>\n",
              "      <th>Recuperadosnovos</th>\n",
              "      <th>emAcompanhamentoNovos</th>\n",
              "    </tr>\n",
              "  </thead>\n",
              "  <tbody>\n",
              "    <tr>\n",
              "      <th>106</th>\n",
              "      <td>Brasil</td>\n",
              "      <td>NaN</td>\n",
              "      <td>NaN</td>\n",
              "      <td>76</td>\n",
              "      <td>NaN</td>\n",
              "      <td>NaN</td>\n",
              "      <td>NaN</td>\n",
              "      <td>2020-06-10</td>\n",
              "      <td>24</td>\n",
              "      <td>210147125</td>\n",
              "      <td>772416</td>\n",
              "      <td>32913</td>\n",
              "      <td>39680</td>\n",
              "      <td>1274</td>\n",
              "      <td>325395.0</td>\n",
              "      <td>407341.0</td>\n",
              "    </tr>\n",
              "    <tr>\n",
              "      <th>221</th>\n",
              "      <td>Norte</td>\n",
              "      <td>RO</td>\n",
              "      <td>NaN</td>\n",
              "      <td>11</td>\n",
              "      <td>NaN</td>\n",
              "      <td>NaN</td>\n",
              "      <td>NaN</td>\n",
              "      <td>2020-06-10</td>\n",
              "      <td>24</td>\n",
              "      <td>1777225</td>\n",
              "      <td>9850</td>\n",
              "      <td>630</td>\n",
              "      <td>267</td>\n",
              "      <td>12</td>\n",
              "      <td>NaN</td>\n",
              "      <td>NaN</td>\n",
              "    </tr>\n",
              "    <tr>\n",
              "      <th>336</th>\n",
              "      <td>Norte</td>\n",
              "      <td>AC</td>\n",
              "      <td>NaN</td>\n",
              "      <td>12</td>\n",
              "      <td>NaN</td>\n",
              "      <td>NaN</td>\n",
              "      <td>NaN</td>\n",
              "      <td>2020-06-10</td>\n",
              "      <td>24</td>\n",
              "      <td>881935</td>\n",
              "      <td>8746</td>\n",
              "      <td>289</td>\n",
              "      <td>237</td>\n",
              "      <td>14</td>\n",
              "      <td>NaN</td>\n",
              "      <td>NaN</td>\n",
              "    </tr>\n",
              "    <tr>\n",
              "      <th>451</th>\n",
              "      <td>Norte</td>\n",
              "      <td>AM</td>\n",
              "      <td>NaN</td>\n",
              "      <td>13</td>\n",
              "      <td>NaN</td>\n",
              "      <td>NaN</td>\n",
              "      <td>NaN</td>\n",
              "      <td>2020-06-10</td>\n",
              "      <td>24</td>\n",
              "      <td>4144597</td>\n",
              "      <td>52849</td>\n",
              "      <td>1615</td>\n",
              "      <td>2363</td>\n",
              "      <td>48</td>\n",
              "      <td>NaN</td>\n",
              "      <td>NaN</td>\n",
              "    </tr>\n",
              "    <tr>\n",
              "      <th>566</th>\n",
              "      <td>Norte</td>\n",
              "      <td>RR</td>\n",
              "      <td>NaN</td>\n",
              "      <td>14</td>\n",
              "      <td>NaN</td>\n",
              "      <td>NaN</td>\n",
              "      <td>NaN</td>\n",
              "      <td>2020-06-10</td>\n",
              "      <td>24</td>\n",
              "      <td>605761</td>\n",
              "      <td>6347</td>\n",
              "      <td>291</td>\n",
              "      <td>182</td>\n",
              "      <td>14</td>\n",
              "      <td>NaN</td>\n",
              "      <td>NaN</td>\n",
              "    </tr>\n",
              "    <tr>\n",
              "      <th>...</th>\n",
              "      <td>...</td>\n",
              "      <td>...</td>\n",
              "      <td>...</td>\n",
              "      <td>...</td>\n",
              "      <td>...</td>\n",
              "      <td>...</td>\n",
              "      <td>...</td>\n",
              "      <td>...</td>\n",
              "      <td>...</td>\n",
              "      <td>...</td>\n",
              "      <td>...</td>\n",
              "      <td>...</td>\n",
              "      <td>...</td>\n",
              "      <td>...</td>\n",
              "      <td>...</td>\n",
              "      <td>...</td>\n",
              "    </tr>\n",
              "    <tr>\n",
              "      <th>412627</th>\n",
              "      <td>Centro-Oeste</td>\n",
              "      <td>GO</td>\n",
              "      <td>Urutaí</td>\n",
              "      <td>52</td>\n",
              "      <td>522180.0</td>\n",
              "      <td>52005.0</td>\n",
              "      <td>ESTRADA DE FERRO</td>\n",
              "      <td>2020-06-10</td>\n",
              "      <td>24</td>\n",
              "      <td>3072</td>\n",
              "      <td>2</td>\n",
              "      <td>0</td>\n",
              "      <td>0</td>\n",
              "      <td>0</td>\n",
              "      <td>NaN</td>\n",
              "      <td>NaN</td>\n",
              "    </tr>\n",
              "    <tr>\n",
              "      <th>412711</th>\n",
              "      <td>Centro-Oeste</td>\n",
              "      <td>GO</td>\n",
              "      <td>Valparaíso de Goiás</td>\n",
              "      <td>52</td>\n",
              "      <td>522185.0</td>\n",
              "      <td>52004.0</td>\n",
              "      <td>ENTORNO SUL</td>\n",
              "      <td>2020-06-10</td>\n",
              "      <td>24</td>\n",
              "      <td>168468</td>\n",
              "      <td>223</td>\n",
              "      <td>24</td>\n",
              "      <td>6</td>\n",
              "      <td>2</td>\n",
              "      <td>NaN</td>\n",
              "      <td>NaN</td>\n",
              "    </tr>\n",
              "    <tr>\n",
              "      <th>412795</th>\n",
              "      <td>Centro-Oeste</td>\n",
              "      <td>GO</td>\n",
              "      <td>Vianópolis</td>\n",
              "      <td>52</td>\n",
              "      <td>522200.0</td>\n",
              "      <td>52002.0</td>\n",
              "      <td>CENTRO SUL</td>\n",
              "      <td>2020-06-10</td>\n",
              "      <td>24</td>\n",
              "      <td>13863</td>\n",
              "      <td>14</td>\n",
              "      <td>1</td>\n",
              "      <td>0</td>\n",
              "      <td>0</td>\n",
              "      <td>NaN</td>\n",
              "      <td>NaN</td>\n",
              "    </tr>\n",
              "    <tr>\n",
              "      <th>412879</th>\n",
              "      <td>Centro-Oeste</td>\n",
              "      <td>GO</td>\n",
              "      <td>Vicentinópolis</td>\n",
              "      <td>52</td>\n",
              "      <td>522205.0</td>\n",
              "      <td>52002.0</td>\n",
              "      <td>CENTRO SUL</td>\n",
              "      <td>2020-06-10</td>\n",
              "      <td>24</td>\n",
              "      <td>8743</td>\n",
              "      <td>0</td>\n",
              "      <td>0</td>\n",
              "      <td>0</td>\n",
              "      <td>0</td>\n",
              "      <td>NaN</td>\n",
              "      <td>NaN</td>\n",
              "    </tr>\n",
              "    <tr>\n",
              "      <th>412963</th>\n",
              "      <td>Centro-Oeste</td>\n",
              "      <td>GO</td>\n",
              "      <td>Vila Boa</td>\n",
              "      <td>52</td>\n",
              "      <td>522220.0</td>\n",
              "      <td>52003.0</td>\n",
              "      <td>ENTORNO NORTE</td>\n",
              "      <td>2020-06-10</td>\n",
              "      <td>24</td>\n",
              "      <td>6171</td>\n",
              "      <td>0</td>\n",
              "      <td>0</td>\n",
              "      <td>0</td>\n",
              "      <td>0</td>\n",
              "      <td>NaN</td>\n",
              "      <td>NaN</td>\n",
              "    </tr>\n",
              "  </tbody>\n",
              "</table>\n",
              "<p>4905 rows × 16 columns</p>\n",
              "</div>"
            ],
            "text/plain": [
              "              regiao estado  ... Recuperadosnovos  emAcompanhamentoNovos\n",
              "106           Brasil    NaN  ...         325395.0               407341.0\n",
              "221            Norte     RO  ...              NaN                    NaN\n",
              "336            Norte     AC  ...              NaN                    NaN\n",
              "451            Norte     AM  ...              NaN                    NaN\n",
              "566            Norte     RR  ...              NaN                    NaN\n",
              "...              ...    ...  ...              ...                    ...\n",
              "412627  Centro-Oeste     GO  ...              NaN                    NaN\n",
              "412711  Centro-Oeste     GO  ...              NaN                    NaN\n",
              "412795  Centro-Oeste     GO  ...              NaN                    NaN\n",
              "412879  Centro-Oeste     GO  ...              NaN                    NaN\n",
              "412963  Centro-Oeste     GO  ...              NaN                    NaN\n",
              "\n",
              "[4905 rows x 16 columns]"
            ]
          },
          "metadata": {
            "tags": []
          },
          "execution_count": 207
        }
      ]
    },
    {
      "cell_type": "code",
      "metadata": {
        "id": "911KscwNI8R_",
        "colab_type": "code",
        "colab": {
          "base_uri": "https://localhost:8080/",
          "height": 737
        },
        "outputId": "93b60f91-85b2-425b-ebd7-b3200a11aba2"
      },
      "source": [
        "#fazendo um plot dos casos de COVID por estados\n",
        "sns.set(rc={'figure.figsize':(18,12)})\n",
        "sns.barplot(x='estado', y='casosAcumulado', data=datae,)"
      ],
      "execution_count": 208,
      "outputs": [
        {
          "output_type": "execute_result",
          "data": {
            "text/plain": [
              "<matplotlib.axes._subplots.AxesSubplot at 0x7fb7ff58d0b8>"
            ]
          },
          "metadata": {
            "tags": []
          },
          "execution_count": 208
        },
        {
          "output_type": "display_data",
          "data": {
            "image/png": "[encoded data removed]",
            "text/plain": [
              "<Figure size 1296x864 with 1 Axes>"
            ]
          },
          "metadata": {
            "tags": []
          }
        }
      ]
    },
    {
      "cell_type": "code",
      "metadata": {
        "id": "y_vsM8P5RVLx",
        "colab_type": "code",
        "colab": {
          "base_uri": "https://localhost:8080/",
          "height": 197
        },
        "outputId": "d229e2f6-baf3-4745-9473-0820003a8a22"
      },
      "source": [
        "#preenchendo os valores ausentes com 0\n",
        "dados = dados.fillna(0)\n",
        "dados.head()"
      ],
      "execution_count": 249,
      "outputs": [
        {
          "output_type": "execute_result",
          "data": {
            "text/html": [
              "<div>\n",
              "<style scoped>\n",
              "    .dataframe tbody tr th:only-of-type {\n",
              "        vertical-align: middle;\n",
              "    }\n",
              "\n",
              "    .dataframe tbody tr th {\n",
              "        vertical-align: top;\n",
              "    }\n",
              "\n",
              "    .dataframe thead th {\n",
              "        text-align: right;\n",
              "    }\n",
              "</style>\n",
              "<table border=\"1\" class=\"dataframe\">\n",
              "  <thead>\n",
              "    <tr style=\"text-align: right;\">\n",
              "      <th></th>\n",
              "      <th>regiao</th>\n",
              "      <th>estado</th>\n",
              "      <th>municipio</th>\n",
              "      <th>coduf</th>\n",
              "      <th>codmun</th>\n",
              "      <th>codRegiaoSaude</th>\n",
              "      <th>nomeRegiaoSaude</th>\n",
              "      <th>data</th>\n",
              "      <th>semanaEpi</th>\n",
              "      <th>populacaoTCU2019</th>\n",
              "      <th>casosAcumulado</th>\n",
              "      <th>casosNovos</th>\n",
              "      <th>obitosAcumulado</th>\n",
              "      <th>obitosNovos</th>\n",
              "      <th>Recuperadosnovos</th>\n",
              "      <th>emAcompanhamentoNovos</th>\n",
              "    </tr>\n",
              "  </thead>\n",
              "  <tbody>\n",
              "    <tr>\n",
              "      <th>0</th>\n",
              "      <td>Brasil</td>\n",
              "      <td>0</td>\n",
              "      <td>0</td>\n",
              "      <td>76</td>\n",
              "      <td>0.0</td>\n",
              "      <td>0.0</td>\n",
              "      <td>0</td>\n",
              "      <td>2020-02-25</td>\n",
              "      <td>9</td>\n",
              "      <td>210147125</td>\n",
              "      <td>0</td>\n",
              "      <td>0</td>\n",
              "      <td>0</td>\n",
              "      <td>0</td>\n",
              "      <td>0.0</td>\n",
              "      <td>0.0</td>\n",
              "    </tr>\n",
              "    <tr>\n",
              "      <th>1</th>\n",
              "      <td>Brasil</td>\n",
              "      <td>0</td>\n",
              "      <td>0</td>\n",
              "      <td>76</td>\n",
              "      <td>0.0</td>\n",
              "      <td>0.0</td>\n",
              "      <td>0</td>\n",
              "      <td>2020-02-26</td>\n",
              "      <td>9</td>\n",
              "      <td>210147125</td>\n",
              "      <td>1</td>\n",
              "      <td>1</td>\n",
              "      <td>0</td>\n",
              "      <td>0</td>\n",
              "      <td>0.0</td>\n",
              "      <td>0.0</td>\n",
              "    </tr>\n",
              "    <tr>\n",
              "      <th>2</th>\n",
              "      <td>Brasil</td>\n",
              "      <td>0</td>\n",
              "      <td>0</td>\n",
              "      <td>76</td>\n",
              "      <td>0.0</td>\n",
              "      <td>0.0</td>\n",
              "      <td>0</td>\n",
              "      <td>2020-02-27</td>\n",
              "      <td>9</td>\n",
              "      <td>210147125</td>\n",
              "      <td>1</td>\n",
              "      <td>0</td>\n",
              "      <td>0</td>\n",
              "      <td>0</td>\n",
              "      <td>0.0</td>\n",
              "      <td>0.0</td>\n",
              "    </tr>\n",
              "    <tr>\n",
              "      <th>3</th>\n",
              "      <td>Brasil</td>\n",
              "      <td>0</td>\n",
              "      <td>0</td>\n",
              "      <td>76</td>\n",
              "      <td>0.0</td>\n",
              "      <td>0.0</td>\n",
              "      <td>0</td>\n",
              "      <td>2020-02-28</td>\n",
              "      <td>9</td>\n",
              "      <td>210147125</td>\n",
              "      <td>1</td>\n",
              "      <td>0</td>\n",
              "      <td>0</td>\n",
              "      <td>0</td>\n",
              "      <td>0.0</td>\n",
              "      <td>0.0</td>\n",
              "    </tr>\n",
              "    <tr>\n",
              "      <th>4</th>\n",
              "      <td>Brasil</td>\n",
              "      <td>0</td>\n",
              "      <td>0</td>\n",
              "      <td>76</td>\n",
              "      <td>0.0</td>\n",
              "      <td>0.0</td>\n",
              "      <td>0</td>\n",
              "      <td>2020-02-29</td>\n",
              "      <td>9</td>\n",
              "      <td>210147125</td>\n",
              "      <td>2</td>\n",
              "      <td>1</td>\n",
              "      <td>0</td>\n",
              "      <td>0</td>\n",
              "      <td>0.0</td>\n",
              "      <td>0.0</td>\n",
              "    </tr>\n",
              "  </tbody>\n",
              "</table>\n",
              "</div>"
            ],
            "text/plain": [
              "   regiao estado  ... Recuperadosnovos  emAcompanhamentoNovos\n",
              "0  Brasil      0  ...              0.0                    0.0\n",
              "1  Brasil      0  ...              0.0                    0.0\n",
              "2  Brasil      0  ...              0.0                    0.0\n",
              "3  Brasil      0  ...              0.0                    0.0\n",
              "4  Brasil      0  ...              0.0                    0.0\n",
              "\n",
              "[5 rows x 16 columns]"
            ]
          },
          "metadata": {
            "tags": []
          },
          "execution_count": 249
        }
      ]
    },
    {
      "cell_type": "code",
      "metadata": {
        "id": "cKh_uSYZSTaW",
        "colab_type": "code",
        "colab": {}
      },
      "source": [
        "# retirando linhas\n",
        "dados2 = dados2.loc[dados2['casosAcumulado']!=0]"
      ],
      "execution_count": 228,
      "outputs": []
    },
    {
      "cell_type": "code",
      "metadata": {
        "id": "ESqP15jvSTKr",
        "colab_type": "code",
        "colab": {
          "base_uri": "https://localhost:8080/",
          "height": 573
        },
        "outputId": "a3bc248b-2bf6-4a6d-e4a9-d903901bc4b1"
      },
      "source": [
        "#retirando as linhas que contém DF\n",
        "dados2 = dados2.loc[dados2['estado']!='DF']\n",
        "dados2"
      ],
      "execution_count": 250,
      "outputs": [
        {
          "output_type": "execute_result",
          "data": {
            "text/html": [
              "<div>\n",
              "<style scoped>\n",
              "    .dataframe tbody tr th:only-of-type {\n",
              "        vertical-align: middle;\n",
              "    }\n",
              "\n",
              "    .dataframe tbody tr th {\n",
              "        vertical-align: top;\n",
              "    }\n",
              "\n",
              "    .dataframe thead th {\n",
              "        text-align: right;\n",
              "    }\n",
              "</style>\n",
              "<table border=\"1\" class=\"dataframe\">\n",
              "  <thead>\n",
              "    <tr style=\"text-align: right;\">\n",
              "      <th></th>\n",
              "      <th>regiao</th>\n",
              "      <th>estado</th>\n",
              "      <th>municipio</th>\n",
              "      <th>coduf</th>\n",
              "      <th>codmun</th>\n",
              "      <th>codRegiaoSaude</th>\n",
              "      <th>nomeRegiaoSaude</th>\n",
              "      <th>data</th>\n",
              "      <th>semanaEpi</th>\n",
              "      <th>populacaoTCU2019</th>\n",
              "      <th>casosAcumulado</th>\n",
              "      <th>casosNovos</th>\n",
              "      <th>obitosAcumulado</th>\n",
              "      <th>obitosNovos</th>\n",
              "      <th>Recuperadosnovos</th>\n",
              "      <th>emAcompanhamentoNovos</th>\n",
              "    </tr>\n",
              "  </thead>\n",
              "  <tbody>\n",
              "    <tr>\n",
              "      <th>139</th>\n",
              "      <td>Norte</td>\n",
              "      <td>RO</td>\n",
              "      <td>0</td>\n",
              "      <td>11</td>\n",
              "      <td>0.0</td>\n",
              "      <td>0.0</td>\n",
              "      <td>0</td>\n",
              "      <td>2020-03-20</td>\n",
              "      <td>12</td>\n",
              "      <td>1777225</td>\n",
              "      <td>1</td>\n",
              "      <td>1</td>\n",
              "      <td>0</td>\n",
              "      <td>0</td>\n",
              "      <td>0.0</td>\n",
              "      <td>0.0</td>\n",
              "    </tr>\n",
              "    <tr>\n",
              "      <th>140</th>\n",
              "      <td>Norte</td>\n",
              "      <td>RO</td>\n",
              "      <td>0</td>\n",
              "      <td>11</td>\n",
              "      <td>0.0</td>\n",
              "      <td>0.0</td>\n",
              "      <td>0</td>\n",
              "      <td>2020-03-21</td>\n",
              "      <td>12</td>\n",
              "      <td>1777225</td>\n",
              "      <td>1</td>\n",
              "      <td>0</td>\n",
              "      <td>0</td>\n",
              "      <td>0</td>\n",
              "      <td>0.0</td>\n",
              "      <td>0.0</td>\n",
              "    </tr>\n",
              "    <tr>\n",
              "      <th>141</th>\n",
              "      <td>Norte</td>\n",
              "      <td>RO</td>\n",
              "      <td>0</td>\n",
              "      <td>11</td>\n",
              "      <td>0.0</td>\n",
              "      <td>0.0</td>\n",
              "      <td>0</td>\n",
              "      <td>2020-03-22</td>\n",
              "      <td>13</td>\n",
              "      <td>1777225</td>\n",
              "      <td>3</td>\n",
              "      <td>2</td>\n",
              "      <td>0</td>\n",
              "      <td>0</td>\n",
              "      <td>0.0</td>\n",
              "      <td>0.0</td>\n",
              "    </tr>\n",
              "    <tr>\n",
              "      <th>142</th>\n",
              "      <td>Norte</td>\n",
              "      <td>RO</td>\n",
              "      <td>0</td>\n",
              "      <td>11</td>\n",
              "      <td>0.0</td>\n",
              "      <td>0.0</td>\n",
              "      <td>0</td>\n",
              "      <td>2020-03-23</td>\n",
              "      <td>13</td>\n",
              "      <td>1777225</td>\n",
              "      <td>3</td>\n",
              "      <td>0</td>\n",
              "      <td>0</td>\n",
              "      <td>0</td>\n",
              "      <td>0.0</td>\n",
              "      <td>0.0</td>\n",
              "    </tr>\n",
              "    <tr>\n",
              "      <th>143</th>\n",
              "      <td>Norte</td>\n",
              "      <td>RO</td>\n",
              "      <td>0</td>\n",
              "      <td>11</td>\n",
              "      <td>0.0</td>\n",
              "      <td>0.0</td>\n",
              "      <td>0</td>\n",
              "      <td>2020-03-24</td>\n",
              "      <td>13</td>\n",
              "      <td>1777225</td>\n",
              "      <td>3</td>\n",
              "      <td>0</td>\n",
              "      <td>0</td>\n",
              "      <td>0</td>\n",
              "      <td>0.0</td>\n",
              "      <td>0.0</td>\n",
              "    </tr>\n",
              "    <tr>\n",
              "      <th>...</th>\n",
              "      <td>...</td>\n",
              "      <td>...</td>\n",
              "      <td>...</td>\n",
              "      <td>...</td>\n",
              "      <td>...</td>\n",
              "      <td>...</td>\n",
              "      <td>...</td>\n",
              "      <td>...</td>\n",
              "      <td>...</td>\n",
              "      <td>...</td>\n",
              "      <td>...</td>\n",
              "      <td>...</td>\n",
              "      <td>...</td>\n",
              "      <td>...</td>\n",
              "      <td>...</td>\n",
              "      <td>...</td>\n",
              "    </tr>\n",
              "    <tr>\n",
              "      <th>412884</th>\n",
              "      <td>Centro-Oeste</td>\n",
              "      <td>GO</td>\n",
              "      <td>Vicentinópolis</td>\n",
              "      <td>52</td>\n",
              "      <td>522205.0</td>\n",
              "      <td>52002.0</td>\n",
              "      <td>CENTRO SUL</td>\n",
              "      <td>2020-06-15</td>\n",
              "      <td>25</td>\n",
              "      <td>8743</td>\n",
              "      <td>1</td>\n",
              "      <td>0</td>\n",
              "      <td>1</td>\n",
              "      <td>0</td>\n",
              "      <td>0.0</td>\n",
              "      <td>0.0</td>\n",
              "    </tr>\n",
              "    <tr>\n",
              "      <th>412885</th>\n",
              "      <td>Centro-Oeste</td>\n",
              "      <td>GO</td>\n",
              "      <td>Vicentinópolis</td>\n",
              "      <td>52</td>\n",
              "      <td>522205.0</td>\n",
              "      <td>52002.0</td>\n",
              "      <td>CENTRO SUL</td>\n",
              "      <td>2020-06-16</td>\n",
              "      <td>25</td>\n",
              "      <td>8743</td>\n",
              "      <td>1</td>\n",
              "      <td>0</td>\n",
              "      <td>1</td>\n",
              "      <td>0</td>\n",
              "      <td>0.0</td>\n",
              "      <td>0.0</td>\n",
              "    </tr>\n",
              "    <tr>\n",
              "      <th>412886</th>\n",
              "      <td>Centro-Oeste</td>\n",
              "      <td>GO</td>\n",
              "      <td>Vicentinópolis</td>\n",
              "      <td>52</td>\n",
              "      <td>522205.0</td>\n",
              "      <td>52002.0</td>\n",
              "      <td>CENTRO SUL</td>\n",
              "      <td>2020-06-17</td>\n",
              "      <td>25</td>\n",
              "      <td>8743</td>\n",
              "      <td>1</td>\n",
              "      <td>0</td>\n",
              "      <td>1</td>\n",
              "      <td>0</td>\n",
              "      <td>0.0</td>\n",
              "      <td>0.0</td>\n",
              "    </tr>\n",
              "    <tr>\n",
              "      <th>412887</th>\n",
              "      <td>Centro-Oeste</td>\n",
              "      <td>GO</td>\n",
              "      <td>Vicentinópolis</td>\n",
              "      <td>52</td>\n",
              "      <td>522205.0</td>\n",
              "      <td>52002.0</td>\n",
              "      <td>CENTRO SUL</td>\n",
              "      <td>2020-06-18</td>\n",
              "      <td>25</td>\n",
              "      <td>8743</td>\n",
              "      <td>1</td>\n",
              "      <td>0</td>\n",
              "      <td>1</td>\n",
              "      <td>0</td>\n",
              "      <td>0.0</td>\n",
              "      <td>0.0</td>\n",
              "    </tr>\n",
              "    <tr>\n",
              "      <th>412971</th>\n",
              "      <td>Centro-Oeste</td>\n",
              "      <td>GO</td>\n",
              "      <td>Vila Boa</td>\n",
              "      <td>52</td>\n",
              "      <td>522220.0</td>\n",
              "      <td>52003.0</td>\n",
              "      <td>ENTORNO NORTE</td>\n",
              "      <td>2020-06-18</td>\n",
              "      <td>25</td>\n",
              "      <td>6171</td>\n",
              "      <td>1</td>\n",
              "      <td>1</td>\n",
              "      <td>0</td>\n",
              "      <td>0</td>\n",
              "      <td>0.0</td>\n",
              "      <td>0.0</td>\n",
              "    </tr>\n",
              "  </tbody>\n",
              "</table>\n",
              "<p>219345 rows × 16 columns</p>\n",
              "</div>"
            ],
            "text/plain": [
              "              regiao estado  ... Recuperadosnovos  emAcompanhamentoNovos\n",
              "139            Norte     RO  ...              0.0                    0.0\n",
              "140            Norte     RO  ...              0.0                    0.0\n",
              "141            Norte     RO  ...              0.0                    0.0\n",
              "142            Norte     RO  ...              0.0                    0.0\n",
              "143            Norte     RO  ...              0.0                    0.0\n",
              "...              ...    ...  ...              ...                    ...\n",
              "412884  Centro-Oeste     GO  ...              0.0                    0.0\n",
              "412885  Centro-Oeste     GO  ...              0.0                    0.0\n",
              "412886  Centro-Oeste     GO  ...              0.0                    0.0\n",
              "412887  Centro-Oeste     GO  ...              0.0                    0.0\n",
              "412971  Centro-Oeste     GO  ...              0.0                    0.0\n",
              "\n",
              "[219345 rows x 16 columns]"
            ]
          },
          "metadata": {
            "tags": []
          },
          "execution_count": 250
        }
      ]
    },
    {
      "cell_type": "code",
      "metadata": {
        "id": "NjyPYnNgDd7D",
        "colab_type": "code",
        "colab": {
          "base_uri": "https://localhost:8080/",
          "height": 682
        },
        "outputId": "211694a1-7e81-4bdb-f4cc-658bb1ad9cfb"
      },
      "source": [
        "# gráfico de data por casos acumulados\n",
        "sns.set(rc={'figure.figsize':(30,12)})\n",
        "sns.barplot(x='data', y='casosAcumulado', data=dados2,)"
      ],
      "execution_count": 273,
      "outputs": [
        {
          "output_type": "execute_result",
          "data": {
            "text/plain": [
              "<matplotlib.axes._subplots.AxesSubplot at 0x7fb8049ce320>"
            ]
          },
          "metadata": {
            "tags": []
          },
          "execution_count": 273
        },
        {
          "output_type": "display_data",
          "data": {
            "image/png": "[encoded data removed]",
            "text/plain": [
              "<Figure size 2160x864 with 1 Axes>"
            ]
          },
          "metadata": {
            "tags": []
          }
        }
      ]
    },
    {
      "cell_type": "code",
      "metadata": {
        "id": "EVV9AxR376my",
        "colab_type": "code",
        "colab": {
          "base_uri": "https://localhost:8080/",
          "height": 737
        },
        "outputId": "ec5f7109-678e-4cf6-a849-840df0e58525"
      },
      "source": [
        "#relação de novos casos com o tempo\n",
        "sns.set(rc={'figure.figsize':(24,12)})\n",
        "sns.barplot(x='data', y='casosNovos', data=dados2,)\n",
        "plt.xlabel('Tempo')\n",
        "plt.ylabel('Casos novos')"
      ],
      "execution_count": 252,
      "outputs": [
        {
          "output_type": "execute_result",
          "data": {
            "text/plain": [
              "Text(0, 0.5, 'Casos novos')"
            ]
          },
          "metadata": {
            "tags": []
          },
          "execution_count": 252
        },
        {
          "output_type": "display_data",
          "data": {
            "image/png": "[encoded data removed]",
            "text/plain": [
              "<Figure size 1728x864 with 1 Axes>"
            ]
          },
          "metadata": {
            "tags": []
          }
        }
      ]
    },
    {
      "cell_type": "code",
      "metadata": {
        "id": "NQ9SbSKkOiQG",
        "colab_type": "code",
        "colab": {
          "base_uri": "https://localhost:8080/",
          "height": 70
        },
        "outputId": "6ba52791-2dd2-4007-f94c-943dabf4049f"
      },
      "source": [
        "dados.estado.unique()"
      ],
      "execution_count": 5,
      "outputs": [
        {
          "output_type": "execute_result",
          "data": {
            "text/plain": [
              "array([nan, 'RO', 'AC', 'AM', 'RR', 'PA', 'AP', 'TO', 'MA', 'PI', 'CE',\n",
              "       'RN', 'PB', 'PE', 'AL', 'SE', 'BA', 'MG', 'ES', 'RJ', 'SP', 'PR',\n",
              "       'SC', 'RS', 'MS', 'MT', 'GO', 'DF'], dtype=object)"
            ]
          },
          "metadata": {
            "tags": []
          },
          "execution_count": 5
        }
      ]
    },
    {
      "cell_type": "code",
      "metadata": {
        "id": "5zjhSZMjORTK",
        "colab_type": "code",
        "colab": {
          "base_uri": "https://localhost:8080/",
          "height": 720
        },
        "outputId": "e9c39df0-6851-4c16-d2f9-648558c230f3"
      },
      "source": [
        "#gerando um gráfico de casos por estados\n",
        "fig, (axis1, axis2, axis3) = plt.subplots(1,3, figsize=(24,12))\n",
        "\n",
        "sns.boxplot(x='estado', y='casosAcumulado', data=dados2, ax=axis1)\n",
        "sns.boxplot(x='estado', y='obitosNovos', data=dados2, ax=axis2)\n",
        "sns.boxplot(x='estado', y='obitosAcumulado', data=dados2, ax=axis3);"
      ],
      "execution_count": 253,
      "outputs": [
        {
          "output_type": "display_data",
          "data": {
            "image/png": "[encoded data removed]",
            "text/plain": [
              "<Figure size 1728x864 with 3 Axes>"
            ]
          },
          "metadata": {
            "tags": []
          }
        }
      ]
    },
    {
      "cell_type": "code",
      "metadata": {
        "id": "0SjKQUpn27KP",
        "colab_type": "code",
        "colab": {
          "base_uri": "https://localhost:8080/",
          "height": 703
        },
        "outputId": "487a046d-80df-461b-efdf-92b846c274e5"
      },
      "source": [
        "dados2['estado'].hist(bins=26)\n",
        "pylab.rcParams['figure.figsize'] = (10.0, 8.0) #mudando tamanho do gráfico"
      ],
      "execution_count": 254,
      "outputs": [
        {
          "output_type": "display_data",
          "data": {
            "image/png": "[encoded data removed]",
            "text/plain": [
              "<Figure size 1728x864 with 1 Axes>"
            ]
          },
          "metadata": {
            "tags": []
          }
        }
      ]
    },
    {
      "cell_type": "code",
      "metadata": {
        "id": "I9kbOi82cjn5",
        "colab_type": "code",
        "colab": {
          "base_uri": "https://localhost:8080/",
          "height": 737
        },
        "outputId": "51818c9f-a0b3-4752-a620-a1741bdf711c"
      },
      "source": [
        "sns.set(rc={'figure.figsize':(18,12)})\n",
        "sns.barplot(x='estado', y='casosAcumulado', data=dados2,)"
      ],
      "execution_count": 245,
      "outputs": [
        {
          "output_type": "execute_result",
          "data": {
            "text/plain": [
              "<matplotlib.axes._subplots.AxesSubplot at 0x7fb7fa83c390>"
            ]
          },
          "metadata": {
            "tags": []
          },
          "execution_count": 245
        },
        {
          "output_type": "display_data",
          "data": {
            "image/png": "[encoded data removed]",
            "text/plain": [
              "<Figure size 1296x864 with 1 Axes>"
            ]
          },
          "metadata": {
            "tags": []
          }
        }
      ]
    },
    {
      "cell_type": "code",
      "metadata": {
        "id": "9eVxbEk6435f",
        "colab_type": "code",
        "colab": {
          "base_uri": "https://localhost:8080/",
          "height": 737
        },
        "outputId": "967304ef-7324-46bd-b0c4-a6644aa0e17e"
      },
      "source": [
        "sns.set(rc={'figure.figsize':(18,12)})\n",
        "sns.barplot(x='estado', y='casosNovos', data=dados2,)"
      ],
      "execution_count": 246,
      "outputs": [
        {
          "output_type": "execute_result",
          "data": {
            "text/plain": [
              "<matplotlib.axes._subplots.AxesSubplot at 0x7fb7fa7accc0>"
            ]
          },
          "metadata": {
            "tags": []
          },
          "execution_count": 246
        },
        {
          "output_type": "display_data",
          "data": {
            "image/png": "[encoded data removed]",
            "text/plain": [
              "<Figure size 1296x864 with 1 Axes>"
            ]
          },
          "metadata": {
            "tags": []
          }
        }
      ]
    },
    {
      "cell_type": "code",
      "metadata": {
        "id": "Q2VCCkLjGWm8",
        "colab_type": "code",
        "colab": {
          "base_uri": "https://localhost:8080/",
          "height": 737
        },
        "outputId": "3f902032-efc3-4001-d936-b80440cabe6f"
      },
      "source": [
        "sns.set(rc={'figure.figsize':(18,12)})\n",
        "sns.barplot(x='estado', y='obitosNovos', data=dados2,)"
      ],
      "execution_count": 247,
      "outputs": [
        {
          "output_type": "execute_result",
          "data": {
            "text/plain": [
              "<matplotlib.axes._subplots.AxesSubplot at 0x7fb7fa7415c0>"
            ]
          },
          "metadata": {
            "tags": []
          },
          "execution_count": 247
        },
        {
          "output_type": "display_data",
          "data": {
            "image/png": "[encoded data removed]",
            "text/plain": [
              "<Figure size 1296x864 with 1 Axes>"
            ]
          },
          "metadata": {
            "tags": []
          }
        }
      ]
    },
    {
      "cell_type": "code",
      "metadata": {
        "id": "7ZOs9VHzk-50",
        "colab_type": "code",
        "colab": {
          "base_uri": "https://localhost:8080/",
          "height": 737
        },
        "outputId": "95c553ea-e012-4399-ec47-a76de15be89a"
      },
      "source": [
        "sns.set(rc={'figure.figsize':(18,12)})\n",
        "sns.barplot(x='estado', y='obitosAcumulado', data=dados2,)"
      ],
      "execution_count": 248,
      "outputs": [
        {
          "output_type": "execute_result",
          "data": {
            "text/plain": [
              "<matplotlib.axes._subplots.AxesSubplot at 0x7fb7fa5435c0>"
            ]
          },
          "metadata": {
            "tags": []
          },
          "execution_count": 248
        },
        {
          "output_type": "display_data",
          "data": {
            "image/png": "[encoded data removed]",
            "text/plain": [
              "<Figure size 1296x864 with 1 Axes>"
            ]
          },
          "metadata": {
            "tags": []
          }
        }
      ]
    },
    {
      "cell_type": "code",
      "metadata": {
        "id": "Hd3FTacNnNUG",
        "colab_type": "code",
        "colab": {
          "base_uri": "https://localhost:8080/",
          "height": 52
        },
        "outputId": "0182a7e0-b2b3-4867-9639-c1ee32f04876"
      },
      "source": [
        "X = dados2.iloc[:, 10].values \n",
        "y = dados2.iloc[:, 11].values\n",
        "correlacao = np.corrcoef(X, y) \n",
        "correlacao"
      ],
      "execution_count": 255,
      "outputs": [
        {
          "output_type": "execute_result",
          "data": {
            "text/plain": [
              "array([[1.        , 0.84283017],\n",
              "       [0.84283017, 1.        ]])"
            ]
          },
          "metadata": {
            "tags": []
          },
          "execution_count": 255
        }
      ]
    },
    {
      "cell_type": "code",
      "metadata": {
        "id": "5p_R4tI_oEjX",
        "colab_type": "code",
        "colab": {}
      },
      "source": [
        "X = X.reshape(-1, 1) \n",
        "y = y.reshape(-1, 1) "
      ],
      "execution_count": 256,
      "outputs": []
    },
    {
      "cell_type": "code",
      "metadata": {
        "id": "EvYDmKx9lJe0",
        "colab_type": "code",
        "colab": {
          "base_uri": "https://localhost:8080/",
          "height": 502
        },
        "outputId": "0d0188c3-85d6-4a9a-b186-0fd772b0f236"
      },
      "source": [
        "modelo = LinearRegression() \n",
        "modelo.fit(X, y) \n",
        "plt.scatter(X, y) #plotar a regressão \n",
        "plt.plot(X, modelo.predict(X), color = 'red') #plotar a linha da regressão "
      ],
      "execution_count": 257,
      "outputs": [
        {
          "output_type": "execute_result",
          "data": {
            "text/plain": [
              "[<matplotlib.lines.Line2D at 0x7fb8051164a8>]"
            ]
          },
          "metadata": {
            "tags": []
          },
          "execution_count": 257
        },
        {
          "output_type": "display_data",
          "data": {
            "image/png": "[encoded data removed]",
            "text/plain": [
              "<Figure size 720x576 with 1 Axes>"
            ]
          },
          "metadata": {
            "tags": []
          }
        }
      ]
    },
    {
      "cell_type": "code",
      "metadata": {
        "id": "B3w9auT8mXBF",
        "colab_type": "code",
        "colab": {
          "base_uri": "https://localhost:8080/",
          "height": 34
        },
        "outputId": "933caba1-8c1e-4ddd-d334-040ec5719dfe"
      },
      "source": [
        "modelo.coef_"
      ],
      "execution_count": 258,
      "outputs": [
        {
          "output_type": "execute_result",
          "data": {
            "text/plain": [
              "array([[0.03279279]])"
            ]
          },
          "metadata": {
            "tags": []
          },
          "execution_count": 258
        }
      ]
    },
    {
      "cell_type": "code",
      "metadata": {
        "id": "xwsjew2noyu9",
        "colab_type": "code",
        "colab": {
          "base_uri": "https://localhost:8080/",
          "height": 34
        },
        "outputId": "4afbd197-b42f-4e22-adc6-c378f06d4321"
      },
      "source": [
        "modelo.intercept_"
      ],
      "execution_count": 259,
      "outputs": [
        {
          "output_type": "execute_result",
          "data": {
            "text/plain": [
              "array([2.06197814])"
            ]
          },
          "metadata": {
            "tags": []
          },
          "execution_count": 259
        }
      ]
    },
    {
      "cell_type": "code",
      "metadata": {
        "id": "uegy8AKfpddG",
        "colab_type": "code",
        "colab": {}
      },
      "source": [
        "data= dados2.iloc[:,7].values"
      ],
      "execution_count": 260,
      "outputs": []
    },
    {
      "cell_type": "code",
      "metadata": {
        "id": "CNDYzx4iqCc1",
        "colab_type": "code",
        "colab": {
          "base_uri": "https://localhost:8080/",
          "height": 87
        },
        "outputId": "25322594-7191-4354-cfb2-159b8008999e"
      },
      "source": [
        "data"
      ],
      "execution_count": 261,
      "outputs": [
        {
          "output_type": "execute_result",
          "data": {
            "text/plain": [
              "array(['2020-03-20T00:00:00.000000000', '2020-03-21T00:00:00.000000000',\n",
              "       '2020-03-22T00:00:00.000000000', ...,\n",
              "       '2020-06-17T00:00:00.000000000', '2020-06-18T00:00:00.000000000',\n",
              "       '2020-06-18T00:00:00.000000000'], dtype='datetime64[ns]')"
            ]
          },
          "metadata": {
            "tags": []
          },
          "execution_count": 261
        }
      ]
    },
    {
      "cell_type": "code",
      "metadata": {
        "id": "K4OPeGhfps-U",
        "colab_type": "code",
        "colab": {}
      },
      "source": [
        "estado = dados.iloc[:,1].values "
      ],
      "execution_count": 262,
      "outputs": []
    },
    {
      "cell_type": "code",
      "metadata": {
        "id": "k1Z2DCnpp_m0",
        "colab_type": "code",
        "colab": {
          "base_uri": "https://localhost:8080/",
          "height": 34
        },
        "outputId": "3c1b5bb7-3761-46b4-db9c-62f31c6bf086"
      },
      "source": [
        "estado"
      ],
      "execution_count": 263,
      "outputs": [
        {
          "output_type": "execute_result",
          "data": {
            "text/plain": [
              "array([0, 0, 0, ..., 'DF', 'DF', 'DF'], dtype=object)"
            ]
          },
          "metadata": {
            "tags": []
          },
          "execution_count": 263
        }
      ]
    },
    {
      "cell_type": "code",
      "metadata": {
        "id": "o4fKuKj5qdoN",
        "colab_type": "code",
        "colab": {
          "base_uri": "https://localhost:8080/",
          "height": 87
        },
        "outputId": "9f3a97a9-fa31-4d84-d352-7f2c2e0f1808"
      },
      "source": [
        "data"
      ],
      "execution_count": 265,
      "outputs": [
        {
          "output_type": "execute_result",
          "data": {
            "text/plain": [
              "array(['2020-03-20T00:00:00.000000000', '2020-03-21T00:00:00.000000000',\n",
              "       '2020-03-22T00:00:00.000000000', ...,\n",
              "       '2020-06-17T00:00:00.000000000', '2020-06-18T00:00:00.000000000',\n",
              "       '2020-06-18T00:00:00.000000000'], dtype='datetime64[ns]')"
            ]
          },
          "metadata": {
            "tags": []
          },
          "execution_count": 265
        }
      ]
    },
    {
      "cell_type": "code",
      "metadata": {
        "id": "FoImJr-5quw2",
        "colab_type": "code",
        "colab": {}
      },
      "source": [
        "data = data.reshape(-1, 1)"
      ],
      "execution_count": 266,
      "outputs": []
    },
    {
      "cell_type": "code",
      "metadata": {
        "id": "Ee2DZHECqeVE",
        "colab_type": "code",
        "colab": {
          "base_uri": "https://localhost:8080/",
          "height": 520
        },
        "outputId": "29f8ec6f-3537-4f3e-8d71-7bc73d987dbf"
      },
      "source": [
        "modelo = LinearRegression() \n",
        "modelo.fit(data, X) \n",
        "plt.scatter(data, X) #plotar a regressão\n",
        "plt.xlabel('Data')\n",
        "plt.ylabel('Casos totais')"
      ],
      "execution_count": 267,
      "outputs": [
        {
          "output_type": "execute_result",
          "data": {
            "text/plain": [
              "Text(0, 0.5, 'Casos totais')"
            ]
          },
          "metadata": {
            "tags": []
          },
          "execution_count": 267
        },
        {
          "output_type": "display_data",
          "data": {
            "image/png": "[encoded data removed]",
            "text/plain": [
              "<Figure size 720x576 with 1 Axes>"
            ]
          },
          "metadata": {
            "tags": []
          }
        }
      ]
    },
    {
      "cell_type": "code",
      "metadata": {
        "id": "CYXxpRepqsg7",
        "colab_type": "code",
        "colab": {}
      },
      "source": [
        ""
      ],
      "execution_count": null,
      "outputs": []
    }
  ]
}